{
 "nbformat": 4,
 "nbformat_minor": 2,
 "metadata": {
  "language_info": {
   "name": "python",
   "codemirror_mode": {
    "name": "ipython",
    "version": 3
   },
   "version": "3.7.5"
  },
  "orig_nbformat": 2,
  "file_extension": ".py",
  "mimetype": "text/x-python",
  "name": "python",
  "npconvert_exporter": "python",
  "pygments_lexer": "ipython3",
  "version": 3
 },
 "cells": [
  {
   "cell_type": "code",
   "execution_count": 87,
   "metadata": {},
   "outputs": [],
   "source": [
    "import pandas as pd\n",
    "import numpy as np\n",
    "import seaborn as sns"
   ]
  },
  {
   "cell_type": "code",
   "execution_count": 88,
   "metadata": {},
   "outputs": [
    {
     "data": {
      "text/plain": "21"
     },
     "execution_count": 88,
     "metadata": {},
     "output_type": "execute_result"
    }
   ],
   "source": [
    "df = pd.read_csv('profesi.csv', delimiter='|')\n",
    "df['occupation'].nunique()"
   ]
  },
  {
   "cell_type": "code",
   "execution_count": 89,
   "metadata": {},
   "outputs": [
    {
     "data": {
      "text/plain": "['technician',\n 'other',\n 'writer',\n 'executive',\n 'administrator',\n 'student',\n 'lawyer',\n 'educator',\n 'scientist',\n 'entertainment',\n 'programmer',\n 'librarian',\n 'homemaker',\n 'artist',\n 'engineer',\n 'marketing',\n 'none',\n 'healthcare',\n 'retired',\n 'salesman',\n 'doctor']"
     },
     "execution_count": 89,
     "metadata": {},
     "output_type": "execute_result"
    }
   ],
   "source": [
    "list(df['occupation'].unique())"
   ]
  },
  {
   "cell_type": "code",
   "execution_count": 90,
   "metadata": {},
   "outputs": [
    {
     "data": {
      "text/html": "<div>\n<style scoped>\n    .dataframe tbody tr th:only-of-type {\n        vertical-align: middle;\n    }\n\n    .dataframe tbody tr th {\n        vertical-align: top;\n    }\n\n    .dataframe thead th {\n        text-align: right;\n    }\n</style>\n<table border=\"1\" class=\"dataframe\">\n  <thead>\n    <tr style=\"text-align: right;\">\n      <th></th>\n      <th>max</th>\n      <th>73</th>\n    </tr>\n    <tr>\n      <th>occupation</th>\n      <th>gender</th>\n      <th></th>\n    </tr>\n  </thead>\n  <tbody>\n    <tr>\n      <th rowspan=\"2\" valign=\"top\">administrator</th>\n      <th>F</th>\n      <td>36</td>\n    </tr>\n    <tr>\n      <th>M</th>\n      <td>43</td>\n    </tr>\n    <tr>\n      <th rowspan=\"2\" valign=\"top\">artist</th>\n      <th>F</th>\n      <td>13</td>\n    </tr>\n    <tr>\n      <th>M</th>\n      <td>15</td>\n    </tr>\n    <tr>\n      <th>doctor</th>\n      <th>M</th>\n      <td>7</td>\n    </tr>\n    <tr>\n      <th rowspan=\"2\" valign=\"top\">educator</th>\n      <th>F</th>\n      <td>26</td>\n    </tr>\n    <tr>\n      <th>M</th>\n      <td>69</td>\n    </tr>\n    <tr>\n      <th rowspan=\"2\" valign=\"top\">engineer</th>\n      <th>F</th>\n      <td>2</td>\n    </tr>\n    <tr>\n      <th>M</th>\n      <td>65</td>\n    </tr>\n    <tr>\n      <th rowspan=\"2\" valign=\"top\">entertainment</th>\n      <th>F</th>\n      <td>2</td>\n    </tr>\n    <tr>\n      <th>M</th>\n      <td>16</td>\n    </tr>\n    <tr>\n      <th rowspan=\"2\" valign=\"top\">executive</th>\n      <th>F</th>\n      <td>3</td>\n    </tr>\n    <tr>\n      <th>M</th>\n      <td>29</td>\n    </tr>\n    <tr>\n      <th rowspan=\"2\" valign=\"top\">healthcare</th>\n      <th>F</th>\n      <td>11</td>\n    </tr>\n    <tr>\n      <th>M</th>\n      <td>5</td>\n    </tr>\n    <tr>\n      <th rowspan=\"2\" valign=\"top\">homemaker</th>\n      <th>F</th>\n      <td>6</td>\n    </tr>\n    <tr>\n      <th>M</th>\n      <td>1</td>\n    </tr>\n    <tr>\n      <th rowspan=\"2\" valign=\"top\">lawyer</th>\n      <th>F</th>\n      <td>2</td>\n    </tr>\n    <tr>\n      <th>M</th>\n      <td>10</td>\n    </tr>\n    <tr>\n      <th rowspan=\"2\" valign=\"top\">librarian</th>\n      <th>F</th>\n      <td>29</td>\n    </tr>\n    <tr>\n      <th>M</th>\n      <td>22</td>\n    </tr>\n    <tr>\n      <th rowspan=\"2\" valign=\"top\">marketing</th>\n      <th>F</th>\n      <td>10</td>\n    </tr>\n    <tr>\n      <th>M</th>\n      <td>16</td>\n    </tr>\n    <tr>\n      <th rowspan=\"2\" valign=\"top\">none</th>\n      <th>F</th>\n      <td>4</td>\n    </tr>\n    <tr>\n      <th>M</th>\n      <td>5</td>\n    </tr>\n    <tr>\n      <th rowspan=\"2\" valign=\"top\">other</th>\n      <th>F</th>\n      <td>36</td>\n    </tr>\n    <tr>\n      <th>M</th>\n      <td>69</td>\n    </tr>\n    <tr>\n      <th rowspan=\"2\" valign=\"top\">programmer</th>\n      <th>F</th>\n      <td>6</td>\n    </tr>\n    <tr>\n      <th>M</th>\n      <td>60</td>\n    </tr>\n    <tr>\n      <th rowspan=\"2\" valign=\"top\">retired</th>\n      <th>F</th>\n      <td>1</td>\n    </tr>\n    <tr>\n      <th>M</th>\n      <td>13</td>\n    </tr>\n    <tr>\n      <th rowspan=\"2\" valign=\"top\">salesman</th>\n      <th>F</th>\n      <td>3</td>\n    </tr>\n    <tr>\n      <th>M</th>\n      <td>9</td>\n    </tr>\n    <tr>\n      <th rowspan=\"2\" valign=\"top\">scientist</th>\n      <th>F</th>\n      <td>3</td>\n    </tr>\n    <tr>\n      <th>M</th>\n      <td>28</td>\n    </tr>\n    <tr>\n      <th rowspan=\"2\" valign=\"top\">student</th>\n      <th>F</th>\n      <td>60</td>\n    </tr>\n    <tr>\n      <th>M</th>\n      <td>136</td>\n    </tr>\n    <tr>\n      <th rowspan=\"2\" valign=\"top\">technician</th>\n      <th>F</th>\n      <td>1</td>\n    </tr>\n    <tr>\n      <th>M</th>\n      <td>26</td>\n    </tr>\n    <tr>\n      <th rowspan=\"2\" valign=\"top\">writer</th>\n      <th>F</th>\n      <td>19</td>\n    </tr>\n    <tr>\n      <th>M</th>\n      <td>26</td>\n    </tr>\n  </tbody>\n</table>\n</div>",
      "text/plain": "max                    73\noccupation    gender     \nadministrator F        36\n              M        43\nartist        F        13\n              M        15\ndoctor        M         7\neducator      F        26\n              M        69\nengineer      F         2\n              M        65\nentertainment F         2\n              M        16\nexecutive     F         3\n              M        29\nhealthcare    F        11\n              M         5\nhomemaker     F         6\n              M         1\nlawyer        F         2\n              M        10\nlibrarian     F        29\n              M        22\nmarketing     F        10\n              M        16\nnone          F         4\n              M         5\nother         F        36\n              M        69\nprogrammer    F         6\n              M        60\nretired       F         1\n              M        13\nsalesman      F         3\n              M         9\nscientist     F         3\n              M        28\nstudent       F        60\n              M       136\ntechnician    F         1\n              M        26\nwriter        F        19\n              M        26"
     },
     "execution_count": 90,
     "metadata": {},
     "output_type": "execute_result"
    }
   ],
   "source": [
    "df['max'] = df['age'].max()\n",
    "pd.crosstab([df['occupation'],df['gender']],df['max'])"
   ]
  },
  {
   "cell_type": "code",
   "execution_count": 92,
   "metadata": {},
   "outputs": [
    {
     "data": {
      "text/html": "<div>\n<style scoped>\n    .dataframe tbody tr th:only-of-type {\n        vertical-align: middle;\n    }\n\n    .dataframe tbody tr th {\n        vertical-align: top;\n    }\n\n    .dataframe thead th {\n        text-align: right;\n    }\n</style>\n<table border=\"1\" class=\"dataframe\">\n  <thead>\n    <tr style=\"text-align: right;\">\n      <th></th>\n      <th>total_bill</th>\n      <th>tip</th>\n      <th>sex</th>\n      <th>smoker</th>\n      <th>day</th>\n      <th>time</th>\n      <th>size</th>\n    </tr>\n  </thead>\n  <tbody>\n    <tr>\n      <th>0</th>\n      <td>16.99</td>\n      <td>1.01</td>\n      <td>Female</td>\n      <td>No</td>\n      <td>Sun</td>\n      <td>Dinner</td>\n      <td>2</td>\n    </tr>\n    <tr>\n      <th>1</th>\n      <td>10.34</td>\n      <td>1.66</td>\n      <td>Male</td>\n      <td>No</td>\n      <td>Sun</td>\n      <td>Dinner</td>\n      <td>3</td>\n    </tr>\n    <tr>\n      <th>2</th>\n      <td>21.01</td>\n      <td>3.50</td>\n      <td>Male</td>\n      <td>No</td>\n      <td>Sun</td>\n      <td>Dinner</td>\n      <td>3</td>\n    </tr>\n    <tr>\n      <th>3</th>\n      <td>23.68</td>\n      <td>3.31</td>\n      <td>Male</td>\n      <td>No</td>\n      <td>Sun</td>\n      <td>Dinner</td>\n      <td>2</td>\n    </tr>\n    <tr>\n      <th>4</th>\n      <td>24.59</td>\n      <td>3.61</td>\n      <td>Female</td>\n      <td>No</td>\n      <td>Sun</td>\n      <td>Dinner</td>\n      <td>4</td>\n    </tr>\n    <tr>\n      <th>...</th>\n      <td>...</td>\n      <td>...</td>\n      <td>...</td>\n      <td>...</td>\n      <td>...</td>\n      <td>...</td>\n      <td>...</td>\n    </tr>\n    <tr>\n      <th>239</th>\n      <td>29.03</td>\n      <td>5.92</td>\n      <td>Male</td>\n      <td>No</td>\n      <td>Sat</td>\n      <td>Dinner</td>\n      <td>3</td>\n    </tr>\n    <tr>\n      <th>240</th>\n      <td>27.18</td>\n      <td>2.00</td>\n      <td>Female</td>\n      <td>Yes</td>\n      <td>Sat</td>\n      <td>Dinner</td>\n      <td>2</td>\n    </tr>\n    <tr>\n      <th>241</th>\n      <td>22.67</td>\n      <td>2.00</td>\n      <td>Male</td>\n      <td>Yes</td>\n      <td>Sat</td>\n      <td>Dinner</td>\n      <td>2</td>\n    </tr>\n    <tr>\n      <th>242</th>\n      <td>17.82</td>\n      <td>1.75</td>\n      <td>Male</td>\n      <td>No</td>\n      <td>Sat</td>\n      <td>Dinner</td>\n      <td>2</td>\n    </tr>\n    <tr>\n      <th>243</th>\n      <td>18.78</td>\n      <td>3.00</td>\n      <td>Female</td>\n      <td>No</td>\n      <td>Thur</td>\n      <td>Dinner</td>\n      <td>2</td>\n    </tr>\n  </tbody>\n</table>\n<p>244 rows × 7 columns</p>\n</div>",
      "text/plain": "     total_bill   tip     sex smoker   day    time  size\n0         16.99  1.01  Female     No   Sun  Dinner     2\n1         10.34  1.66    Male     No   Sun  Dinner     3\n2         21.01  3.50    Male     No   Sun  Dinner     3\n3         23.68  3.31    Male     No   Sun  Dinner     2\n4         24.59  3.61  Female     No   Sun  Dinner     4\n..          ...   ...     ...    ...   ...     ...   ...\n239       29.03  5.92    Male     No   Sat  Dinner     3\n240       27.18  2.00  Female    Yes   Sat  Dinner     2\n241       22.67  2.00    Male    Yes   Sat  Dinner     2\n242       17.82  1.75    Male     No   Sat  Dinner     2\n243       18.78  3.00  Female     No  Thur  Dinner     2\n\n[244 rows x 7 columns]"
     },
     "execution_count": 92,
     "metadata": {},
     "output_type": "execute_result"
    }
   ],
   "source": [
    "df=sns.load_dataset('tips')\n",
    "pd.crosstab(index='')"
   ]
  },
  {
   "cell_type": "code",
   "execution_count": null,
   "metadata": {},
   "outputs": [],
   "source": []
  }
 ]
}